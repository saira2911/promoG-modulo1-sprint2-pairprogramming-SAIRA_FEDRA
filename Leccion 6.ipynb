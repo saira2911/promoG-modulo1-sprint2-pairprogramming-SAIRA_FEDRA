{
 "cells": [
  {
   "cell_type": "markdown",
   "metadata": {},
   "source": [
    "1. Calcular el área de un círculo.\n",
    "Descripción: Crea una función llamada calcular_area_circulo que tome el radio como parámetro y devuelva el área del círculo.\n",
    "NOTA: Os dejamos aquí un link para recordar comose calculaba el área de un círculo."
   ]
  },
  {
   "cell_type": "code",
   "execution_count": 3,
   "metadata": {},
   "outputs": [
    {
     "name": "stdout",
     "output_type": "stream",
     "text": [
      "153.94\n"
     ]
    }
   ],
   "source": [
    "#area = nº pi * r ** 2\n",
    "\n",
    "def calcular_area_circulo (radio):\n",
    "    n_pi = 3.1416\n",
    "    area = round(n_pi * (radio ** 2),2)\n",
    "    return area\n",
    "\n",
    "area1 = calcular_area_circulo(7)\n",
    "print(area1)\n"
   ]
  },
  {
   "cell_type": "markdown",
   "metadata": {},
   "source": [
    "2. Contar la cantidad de caracteres en una cadena.\n",
    "Descripción: Crea una función llamada contar_caracteres que tome una cadena como parámetro y devuelva la cantidad de caracteres que contiene."
   ]
  },
  {
   "cell_type": "code",
   "execution_count": 5,
   "metadata": {},
   "outputs": [
    {
     "name": "stdout",
     "output_type": "stream",
     "text": [
      "6\n"
     ]
    }
   ],
   "source": [
    "def contar_caracteres (cadena):\n",
    "    caracteres = len(cadena)\n",
    "    return caracteres\n",
    "\n",
    "resultado = contar_caracteres(\"Mañana\")\n",
    "print(resultado)"
   ]
  },
  {
   "cell_type": "markdown",
   "metadata": {},
   "source": [
    "3. Determinar si una cadena es un palíndromo.\n",
    "Descripción: Crea una función llamada es_palindromo que tome una cadena como parámetro y devuelva True si es un palíndromo, o False si no lo es."
   ]
  },
  {
   "cell_type": "code",
   "execution_count": 17,
   "metadata": {},
   "outputs": [
    {
     "name": "stdout",
     "output_type": "stream",
     "text": [
      "Es palindromo: False\n"
     ]
    }
   ],
   "source": [
    "def es_palindromo (cadena):\n",
    "    lista_letras = []\n",
    "    palindromo = True\n",
    "    if \" \" in cadena:\n",
    "        lista_palabras = cadena.split()\n",
    "        for palabra in lista_palabras:\n",
    "            for i in range(len(palabra)):\n",
    "                lista_letras.append(palabra[i])\n",
    "    else:\n",
    "        for i in range(len(cadena)):\n",
    "                lista_letras.append(cadena[i])\n",
    "\n",
    "    lista_al_reves = lista_letras.copy()\n",
    "    lista_al_reves.reverse()\n",
    "\n",
    "    if lista_letras == lista_al_reves:\n",
    "         palindromo = True\n",
    "    else:\n",
    "         palindromo = False\n",
    "    return f'Es palindromo: {palindromo}'\n",
    "\n",
    "frase = es_palindromo (\"a luna ese anula\")\n",
    "print(frase)\n"
   ]
  },
  {
   "cell_type": "markdown",
   "metadata": {},
   "source": [
    "**SOLUCION DE CESAR**"
   ]
  },
  {
   "cell_type": "code",
   "execution_count": 2,
   "metadata": {},
   "outputs": [
    {
     "name": "stdout",
     "output_type": "stream",
     "text": [
      "La palabra es un palíndromo.\n"
     ]
    }
   ],
   "source": [
    "def es_palindromo(cadena):\n",
    "    cadena = cadena.lower().replace(\" \", \"\")\n",
    "    return cadena == cadena[::-1]\n",
    "palabra = input(\"Ingresa una palabra: \")\n",
    "if es_palindromo(palabra):\n",
    "    print(\"La palabra es un palíndromo.\")\n",
    "else:\n",
    "    print(\"La palabra no es un palíndromo.\")"
   ]
  },
  {
   "cell_type": "markdown",
   "metadata": {},
   "source": [
    "4. Calcular el promedio de una lista de números.\n",
    "Descripción: Crea una función llamada calcular_promedio que tome una lista de números como parámetro y devuelva el promedio de todos sus elementos."
   ]
  },
  {
   "cell_type": "code",
   "execution_count": 27,
   "metadata": {},
   "outputs": [
    {
     "name": "stdout",
     "output_type": "stream",
     "text": [
      "3.0\n"
     ]
    }
   ],
   "source": [
    "def calcular_promedio (lista_num):\n",
    "    promedio = sum(lista_num) / len(lista_num)\n",
    "    return promedio\n",
    "\n",
    "resultado2 = calcular_promedio ([1, 2, 3, 4, 5])\n",
    "print(resultado2)"
   ]
  },
  {
   "cell_type": "markdown",
   "metadata": {},
   "source": [
    "5. Calcular el interés compuesto.\n",
    "Descripción: Crea una función llamada calcular_interes_compuesto que tome el capital inicial, la tasa de interés y el número de períodos como parámetros y devuelva el beneficio final después del interés compuesto."
   ]
  },
  {
   "cell_type": "code",
   "execution_count": 31,
   "metadata": {},
   "outputs": [
    {
     "name": "stdout",
     "output_type": "stream",
     "text": [
      "166.4\n"
     ]
    }
   ],
   "source": [
    "# capital final = capital inicial * (1 + tasa interes) ** periodo del ahorro\n",
    "def calcular_interes_compuesto (capital, interes, periodos):\n",
    "    capital_final = capital * ((1 + interes) ** periodos)\n",
    "    beneficio = capital_final - capital\n",
    "    return round(beneficio, 2)\n",
    "\n",
    "he_ganado = calcular_interes_compuesto (1000, 0.08, 2)\n",
    "print(he_ganado)"
   ]
  },
  {
   "cell_type": "markdown",
   "metadata": {},
   "source": [
    "6. Validar si una palabra es un anagrama de otra.\n",
    "Descripción: Crea una función llamada es_anagrama que tome dos palabras como parámetros y devuelva True si una es un anagrama de la otra, o False si no lo es."
   ]
  },
  {
   "cell_type": "code",
   "execution_count": 47,
   "metadata": {},
   "outputs": [
    {
     "name": "stdout",
     "output_type": "stream",
     "text": [
      "Es anagrama: False\n"
     ]
    }
   ],
   "source": [
    "def es_anagrama (palabra1, palabra2):\n",
    "    anagrama = True\n",
    "    letras1 = []\n",
    "    letras2 = []\n",
    "    for i in range(len(palabra1)):\n",
    "                letras1.append(palabra1[i].lower())\n",
    "    for i2 in range(len(palabra2)):\n",
    "                letras2.append(palabra2[i2].lower())\n",
    "    \n",
    "    for l in letras1:\n",
    "        for l2 in letras2:\n",
    "                if l in letras2 and l2 in letras1:\n",
    "                        anagrama = True\n",
    "                else:\n",
    "                        anagrama = False\n",
    "    return f'Es anagrama: {anagrama}'\n",
    "\n",
    "son_anagramas = es_anagrama (\"Amor\", \"Mora\")\n",
    "print(son_anagramas)\n"
   ]
  },
  {
   "cell_type": "markdown",
   "metadata": {},
   "source": [
    "**OTRA FORMA MAS EFICIENTE**"
   ]
  },
  {
   "cell_type": "code",
   "execution_count": 9,
   "metadata": {},
   "outputs": [
    {
     "name": "stdout",
     "output_type": "stream",
     "text": [
      "Es anagrama: True\n"
     ]
    }
   ],
   "source": [
    "def es_anagrama (palabra1, palabra2):\n",
    "    anagrama = True\n",
    "    for i in palabra1:\n",
    "        for i2 in palabra2:\n",
    "                if (i in palabra2.lower()) and (i2 in palabra1.lower()):\n",
    "                      anagrama = True\n",
    "                else:\n",
    "                        anagrama = False\n",
    "    return f'Es anagrama: {anagrama}'\n",
    "\n",
    "son_anagramas = es_anagrama (\"Amor\", \"Mora\")\n",
    "print(son_anagramas)"
   ]
  },
  {
   "cell_type": "markdown",
   "metadata": {},
   "source": [
    "7. Validar si una cadena de texto es un isograma.\n",
    "Descripción: Crea una función llamada es_isograma que tome una cadena de texto como parámetro y devuelva True si es un isograma. En caso contrario, devuelve False.\n",
    "¿Qué es un isograma? Una palabra que no contiene letras repetidas."
   ]
  },
  {
   "cell_type": "code",
   "execution_count": 15,
   "metadata": {},
   "outputs": [
    {
     "name": "stdout",
     "output_type": "stream",
     "text": [
      "Es isograma : False\n"
     ]
    }
   ],
   "source": [
    "def es_isograma (palabra3):\n",
    "    isograma = True\n",
    "    for l in palabra3:\n",
    "        cantidad = palabra3.count(l)\n",
    "\n",
    "        if cantidad == 1:\n",
    "            isograma = True\n",
    "        else: \n",
    "            isograma = False\n",
    "            break\n",
    "        \n",
    "    return f'Es isograma : {isograma}'\n",
    "    \n",
    "iso = es_isograma (\"canasta\")\n",
    "print(iso)"
   ]
  },
  {
   "cell_type": "markdown",
   "metadata": {},
   "source": [
    "8. Concatenar múltiples cadenas de texto\n",
    "Descripción: Crea una función llamada concatenar_cadenas que tome una cantidad variable de cadenas de texto como argumentos y devuelva una única cadena que contenga la concatenación de todas las cadenas ingresadas."
   ]
  },
  {
   "cell_type": "markdown",
   "metadata": {},
   "source": [
    "9. Crear un diccionario con información de una persona.\n",
    "Descripción: Crea una función llamada crear_persona que tome como argumentos clave-valor los datos de una persona, como nombre, edad, ciudad, etc., y devuelva un diccionario con toda la información ingresada."
   ]
  },
  {
   "cell_type": "markdown",
   "metadata": {},
   "source": [
    "10. Encontrar el número que falta en una lista ordenada de números consecutivos.\n",
    "Descripción: Crea una función llamada encontrar_numero_faltante que tome una lista de números consecutivos (del 1 al N, sin repetir) con un número faltante y devuelva ese número faltante."
   ]
  },
  {
   "cell_type": "markdown",
   "metadata": {},
   "source": [
    "11. Encontrar el elemento duplicado en una lista de números.\n",
    "Descripción: Crea una función llamada encontrar_duplicado que tome una lista de números enteros y devuelva el elemento que está duplicado en la lista."
   ]
  },
  {
   "cell_type": "code",
   "execution_count": 17,
   "metadata": {},
   "outputs": [
    {
     "name": "stdout",
     "output_type": "stream",
     "text": [
      "[6, 8]\n"
     ]
    }
   ],
   "source": [
    "def encontrar_duplicado (lista):\n",
    "    lista_unica = []\n",
    "    lista_dup = []\n",
    "    for num in lista:\n",
    "        if num not in lista_unica:\n",
    "            lista_unica.append(num)\n",
    "        else:\n",
    "            lista_dup.append(num)\n",
    "    return lista_dup\n",
    "            \n",
    "\n",
    "\n",
    "\n",
    "duplicado = encontrar_duplicado([2,3,4,5,6,6,8,8])\n",
    "print(duplicado)"
   ]
  }
 ],
 "metadata": {
  "kernelspec": {
   "display_name": "base",
   "language": "python",
   "name": "python3"
  },
  "language_info": {
   "codemirror_mode": {
    "name": "ipython",
    "version": 3
   },
   "file_extension": ".py",
   "mimetype": "text/x-python",
   "name": "python",
   "nbconvert_exporter": "python",
   "pygments_lexer": "ipython3",
   "version": "3.9.7"
  }
 },
 "nbformat": 4,
 "nbformat_minor": 2
}
