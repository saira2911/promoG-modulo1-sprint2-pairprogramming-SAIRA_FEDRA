{
 "cells": [
  {
   "cell_type": "code",
   "execution_count": 7,
   "metadata": {},
   "outputs": [],
   "source": [
    "from datetime import date\n",
    "\n",
    "class Empleados:\n",
    "\n",
    "    def __init__(self, nombre, apellidos, edad, posicion, año, vacaciones, herramientas):\n",
    "\n",
    "        self.nombre = nombre\n",
    "        self.apellidos = apellidos\n",
    "        self.edad = edad\n",
    "        self.posicion = posicion\n",
    "        self.año_ingreso = año\n",
    "        self.vacaciones_disponibles = vacaciones\n",
    "        self.herramientas = herramientas\n",
    "\n",
    "    def descripcion (self):\n",
    "        return (f\"El empleado se llama {self.nombre} {self.apellidos}, su puesto en la empresa es {self.posicion}, lleva desde {self.año_ingreso} en la empresa, y los dias de vacaciones que le quedan para 2024 son {self.vacaciones_disponibles}\")\n",
    "    \n",
    "    def cambiando_posicion (self):\n",
    "\n",
    "        for i in self.herramientas:\n",
    "            if i.lower() == \"excel\":\n",
    "                print(\"Estas usando excel, prueba otra herramienta\")\n",
    "            if i.lower() == \"python\":\n",
    "                print(\"Enhorabuena por usar Python\")\n",
    "        return(self.herramientas)\n",
    "    \n",
    "    def calcular_antiguedad (self, año, mes): #DUDA: por que no puedo coger año del init?\n",
    "        today =date.today()\n",
    "        año_actual = today.year \n",
    "        mes_actual = today.month \n",
    "        años_antiguedad = año_actual - año \n",
    "        meses_antiguedad = mes_actual - mes\n",
    "        antiguedad_en_meses = (años_antiguedad * 12) + meses_antiguedad\n",
    "\n",
    "        print(año_actual)\n",
    "        print(mes_actual)\n",
    "        print(años_antiguedad)\n",
    "        print(meses_antiguedad)\n",
    "        print(antiguedad_en_meses)\n",
    "        print(int(antiguedad_en_meses / 12))\n",
    "        print(int(antiguedad_en_meses % 12))\n",
    "\n",
    "        return(f\"La antiguedad de {self.nombre} {self.apellidos} es {int(antiguedad_en_meses / 12)} años y {int(antiguedad_en_meses % 12)} meses\")   \n",
    "        \n",
    "    def solicitar_aumento_vacaciones (self, dias_solicitados):\n",
    "        if dias_solicitados > 0:\n",
    "            self.vacaciones_disponibles += dias_solicitados\n",
    "            return(f\"Tu solicitud ha sido aceptada, te quedan {self.vacaciones_disponibles} dias de vacaiones\")\n",
    "        else:\n",
    "            return(\"Error. Los dias solicitados deben ser mayores a 0\")\n",
    "        \n",
    "    def registrar_herramienta (self, nueva_herramienta):\n",
    "        if nueva_herramienta.title() not in self.herramientas:\n",
    "            self.herramientas.append(nueva_herramienta.title())\n",
    "            return (f\"La nueva herramienta {nueva_herramienta.title()} se ha añadido correctamente. Tu lista de herramientas ahora es {self.herramientas}\")\n",
    "        else:\n",
    "            return(\"Esta herramienta ya esta en tu lista\")\n",
    "        \n",
    "   \n",
    "\n",
    "\n",
    "        \n"
   ]
  },
  {
   "cell_type": "code",
   "execution_count": 8,
   "metadata": {},
   "outputs": [],
   "source": [
    "Empleado1 = Empleados(\"Sara\", \"Garcia Puerta\", 33, \"administrativo\", 2018, 20, [\"Python\", \"Excel\", \"Word\"])"
   ]
  },
  {
   "cell_type": "code",
   "execution_count": 9,
   "metadata": {},
   "outputs": [
    {
     "name": "stdout",
     "output_type": "stream",
     "text": [
      "Enhorabuena por usar Python\n",
      "Estas usando excel, prueba otra herramienta\n"
     ]
    },
    {
     "data": {
      "text/plain": [
       "['Python', 'Excel', 'Word']"
      ]
     },
     "execution_count": 9,
     "metadata": {},
     "output_type": "execute_result"
    }
   ],
   "source": [
    "Empleado1.cambiando_posicion()"
   ]
  },
  {
   "cell_type": "code",
   "execution_count": 54,
   "metadata": {},
   "outputs": [
    {
     "data": {
      "text/plain": [
       "\"La nueva herramienta Jupyter Notebooks se ha añadido correctamente. Tu lista de herramientas ahora es ['Python', 'Excel', 'Word', 'Power Point', 'Jupyter Notebooks']\""
      ]
     },
     "execution_count": 54,
     "metadata": {},
     "output_type": "execute_result"
    }
   ],
   "source": [
    "Empleado1.registrar_herramienta(\"jupyter notebooks\")"
   ]
  },
  {
   "cell_type": "code",
   "execution_count": 41,
   "metadata": {},
   "outputs": [
    {
     "data": {
      "text/plain": [
       "'Tu solicitud ha sido aceptada, te quedan 28 dias de vacaiones'"
      ]
     },
     "execution_count": 41,
     "metadata": {},
     "output_type": "execute_result"
    }
   ],
   "source": [
    "Empleado1.solicitar_aumento_vacaciones(8)"
   ]
  },
  {
   "cell_type": "code",
   "execution_count": 38,
   "metadata": {},
   "outputs": [
    {
     "name": "stdout",
     "output_type": "stream",
     "text": [
      "2024\n",
      "2\n",
      "1\n",
      "-1\n",
      "11\n",
      "0\n",
      "11\n"
     ]
    },
    {
     "data": {
      "text/plain": [
       "'La antiguedad de Sara Garcia Puerta es 0 años y 11 meses'"
      ]
     },
     "execution_count": 38,
     "metadata": {},
     "output_type": "execute_result"
    }
   ],
   "source": [
    "Empleado1.calcular_antiguedad(2023, 3)"
   ]
  },
  {
   "cell_type": "code",
   "execution_count": 9,
   "metadata": {},
   "outputs": [
    {
     "data": {
      "text/plain": [
       "'El empleado se llama Sara Garcia Puerta, su puesto en la empresa es administrativo, lleva desde 2018 en la empresa, y los dias de vacaciones que le quedan para 2024 son 20'"
      ]
     },
     "execution_count": 9,
     "metadata": {},
     "output_type": "execute_result"
    }
   ],
   "source": [
    "Empleado1.descripcion()\n"
   ]
  },
  {
   "cell_type": "code",
   "execution_count": 31,
   "metadata": {},
   "outputs": [],
   "source": [
    "Empleado2 = Empleados(\"Saira\", \"Castellano Redondo\", 28, \"CEO\", 2020, 10, [\"Excel\", \"WORD\", \"PYTHON\"])"
   ]
  },
  {
   "cell_type": "code",
   "execution_count": 32,
   "metadata": {},
   "outputs": [
    {
     "name": "stdout",
     "output_type": "stream",
     "text": [
      "Prueba otra herramienta\n",
      "Enhorabuena por usar Python\n"
     ]
    },
    {
     "data": {
      "text/plain": [
       "['Excel', 'WORD', 'PYTHON']"
      ]
     },
     "execution_count": 32,
     "metadata": {},
     "output_type": "execute_result"
    }
   ],
   "source": [
    "Empleado2.cambiando_posicion([\"Excel\", \"WORD\", \"PYTHON\"])"
   ]
  }
 ],
 "metadata": {
  "kernelspec": {
   "display_name": "base",
   "language": "python",
   "name": "python3"
  },
  "language_info": {
   "codemirror_mode": {
    "name": "ipython",
    "version": 3
   },
   "file_extension": ".py",
   "mimetype": "text/x-python",
   "name": "python",
   "nbconvert_exporter": "python",
   "pygments_lexer": "ipython3",
   "version": "3.9.7"
  }
 },
 "nbformat": 4,
 "nbformat_minor": 2
}
