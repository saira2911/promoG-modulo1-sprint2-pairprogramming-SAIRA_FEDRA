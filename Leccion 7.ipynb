{
 "cells": [
  {
   "cell_type": "code",
   "execution_count": 38,
   "metadata": {},
   "outputs": [
    {
     "ename": "IndentationError",
     "evalue": "expected an indented block (3754540364.py, line 35)",
     "output_type": "error",
     "traceback": [
      "\u001b[0;36m  File \u001b[0;32m\"/tmp/ipykernel_11922/3754540364.py\"\u001b[0;36m, line \u001b[0;32m35\u001b[0m\n\u001b[0;31m    \u001b[0m\n\u001b[0m    ^\u001b[0m\n\u001b[0;31mIndentationError\u001b[0m\u001b[0;31m:\u001b[0m expected an indented block\n"
     ]
    }
   ],
   "source": [
    "import datetime\n",
    "\n",
    "class Empleados:\n",
    "\n",
    "    def __init__(self, nombre, apellidos, edad, posicion, año, vacaciones, herramientas):\n",
    "\n",
    "        self.nombre = nombre\n",
    "        self.apellidos = apellidos\n",
    "        self.edad = edad\n",
    "        self.posicion = posicion\n",
    "        self.año_ingreso = año\n",
    "        self.vacaciones_disponibles = vacaciones\n",
    "        self.herramientas = herramientas\n",
    "\n",
    "    def descripcion (self):\n",
    "        return (f\"El empleado se llama {self.nombre} {self.apellidos}, su puesto en la empresa es {self.posicion}, lleva desde {self.año_ingreso} en la empresa, y los dias de vacaciones que le quedan para 2024 son {self.vacaciones_disponibles}\")\n",
    "    \n",
    "    def cambiando_posicion (self, herramientas):\n",
    "\n",
    "        for i in herramientas:\n",
    "            if i.lower() == \"excel\":\n",
    "                print(\"Prueba otra herramienta\")\n",
    "            if i.lower() == \"python\":\n",
    "                print(\"Enhorabuena por usar Python\")\n",
    "        return(herramientas)\n",
    "    \n",
    "    def calcular_antiguedad (self, año, mes):\n",
    "        años = \n",
    "        \n",
    "\n",
    "\n",
    "    #date time (libreria)\n",
    "\n",
    "\n",
    "\n",
    "        \n"
   ]
  },
  {
   "cell_type": "code",
   "execution_count": 40,
   "metadata": {},
   "outputs": [],
   "source": [
    "Empleado1 = Empleados(\"Sara\", \"Garcia Puerta\", 33, \"administrativo\", 2018, 20, [\"python\", \"excel\", \"word\"])"
   ]
  },
  {
   "cell_type": "code",
   "execution_count": 20,
   "metadata": {},
   "outputs": [
    {
     "data": {
      "text/plain": [
       "'El empleado se llama Sara Garcia Puerta, su puesto en la empresa es administrativo, lleva desde 2018 en la empresa, y los dias de vacaciones que le quedan para 2024 son 20'"
      ]
     },
     "execution_count": 20,
     "metadata": {},
     "output_type": "execute_result"
    }
   ],
   "source": [
    "Empleado1.descripcion()\n"
   ]
  },
  {
   "cell_type": "code",
   "execution_count": 31,
   "metadata": {},
   "outputs": [],
   "source": [
    "Empleado2 = Empleados(\"Saira\", \"Castellano Redondo\", 28, \"CEO\", 2020, 10, [\"Excel\", \"WORD\", \"PYTHON\"])"
   ]
  },
  {
   "cell_type": "code",
   "execution_count": 39,
   "metadata": {},
   "outputs": [
    {
     "ename": "AttributeError",
     "evalue": "'Empleados' object has no attribute 'calcular_antiguedad'",
     "output_type": "error",
     "traceback": [
      "\u001b[0;31m---------------------------------------------------------------------------\u001b[0m",
      "\u001b[0;31mAttributeError\u001b[0m                            Traceback (most recent call last)",
      "\u001b[0;32m/tmp/ipykernel_11922/2099669905.py\u001b[0m in \u001b[0;36m<module>\u001b[0;34m\u001b[0m\n\u001b[0;32m----> 1\u001b[0;31m \u001b[0mEmpleado1\u001b[0m\u001b[0;34m.\u001b[0m\u001b[0mcalcular_antiguedad\u001b[0m\u001b[0;34m(\u001b[0m\u001b[0;36m2018\u001b[0m\u001b[0;34m,\u001b[0m \u001b[0;36m9\u001b[0m\u001b[0;34m)\u001b[0m\u001b[0;34m\u001b[0m\u001b[0;34m\u001b[0m\u001b[0m\n\u001b[0m",
      "\u001b[0;31mAttributeError\u001b[0m: 'Empleados' object has no attribute 'calcular_antiguedad'"
     ]
    }
   ],
   "source": [
    "Empleado1.calcular_antiguedad(2018, 9)"
   ]
  },
  {
   "cell_type": "code",
   "execution_count": 32,
   "metadata": {},
   "outputs": [
    {
     "name": "stdout",
     "output_type": "stream",
     "text": [
      "Prueba otra herramienta\n",
      "Enhorabuena por usar Python\n"
     ]
    },
    {
     "data": {
      "text/plain": [
       "['Excel', 'WORD', 'PYTHON']"
      ]
     },
     "execution_count": 32,
     "metadata": {},
     "output_type": "execute_result"
    }
   ],
   "source": [
    "Empleado2.cambiando_posicion([\"Excel\", \"WORD\", \"PYTHON\"])"
   ]
  },
  {
   "cell_type": "code",
   "execution_count": 36,
   "metadata": {},
   "outputs": [
    {
     "name": "stdout",
     "output_type": "stream",
     "text": [
      "2024-02-08\n"
     ]
    },
    {
     "data": {
      "text/plain": [
       "datetime.date"
      ]
     },
     "execution_count": 36,
     "metadata": {},
     "output_type": "execute_result"
    }
   ],
   "source": [
    "import datetime\n",
    "\n",
    "hoy = datetime.date.today()\n",
    "print(hoy)\n",
    "type(hoy)"
   ]
  }
 ],
 "metadata": {
  "kernelspec": {
   "display_name": "base",
   "language": "python",
   "name": "python3"
  },
  "language_info": {
   "codemirror_mode": {
    "name": "ipython",
    "version": 3
   },
   "file_extension": ".py",
   "mimetype": "text/x-python",
   "name": "python",
   "nbconvert_exporter": "python",
   "pygments_lexer": "ipython3",
   "version": "3.9.7"
  }
 },
 "nbformat": 4,
 "nbformat_minor": 2
}
