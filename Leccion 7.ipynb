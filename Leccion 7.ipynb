{
 "cells": [
  {
   "cell_type": "markdown",
   "metadata": {},
   "source": [
    "Ejercicio 1:"
   ]
  },
  {
   "cell_type": "code",
   "execution_count": 8,
   "metadata": {},
   "outputs": [],
   "source": [
    "from datetime import date\n",
    "\n",
    "class Empleados:\n",
    "\n",
    "    def __init__(self, nombre, apellidos, edad, posicion, anio, vacaciones, herramientas, salario):\n",
    "\n",
    "        self.nombre = nombre\n",
    "        self.apellidos = apellidos\n",
    "        self.edad = edad\n",
    "        self.posicion = posicion\n",
    "        self.anio_ingreso = anio\n",
    "        self.vacaciones_disponibles = vacaciones\n",
    "        self.herramientas = herramientas\n",
    "        self.salario = salario\n",
    "\n",
    "    def descripcion (self):\n",
    "        return (f\"El empleado se llama {self.nombre} {self.apellidos}, su puesto en la empresa es {self.posicion}, lleva desde {self.anio_ingreso} en la empresa, y los dias de vacaciones que le quedan para 2024 son {self.vacaciones_disponibles}\")\n",
    "    \n",
    "    def cambiando_posicion (self):\n",
    "\n",
    "        for i in self.herramientas:\n",
    "            if i.lower() == \"excel\":\n",
    "                print(\"Estas usando excel, prueba otra herramienta\")\n",
    "            if i.lower() == \"python\":\n",
    "                print(\"Enhorabuena por usar Python\")\n",
    "        return(self.herramientas)\n",
    "    \n",
    "    def calcular_antiguedad (self, mes): \n",
    "        today =date.today()\n",
    "        anio_actual = today.year \n",
    "        mes_actual = today.month \n",
    "        anios_antiguedad = anio_actual - self.anio_ingreso\n",
    "        meses_antiguedad = mes_actual - mes\n",
    "        antiguedad_en_meses = (anios_antiguedad * 12) + meses_antiguedad\n",
    "\n",
    "        return(f\"La antiguedad de {self.nombre} {self.apellidos} es {int(antiguedad_en_meses / 12)} años y {int(antiguedad_en_meses % 12)} meses\")   \n",
    "        \n",
    "    def solicitar_aumento_vacaciones (self, dias_solicitados):\n",
    "        if dias_solicitados > 0:\n",
    "            self.vacaciones_disponibles += dias_solicitados\n",
    "            return(f\"Tu solicitud ha sido aceptada, te quedan {self.vacaciones_disponibles} dias de vacaiones\")\n",
    "        else:\n",
    "            return(\"Error. Los dias solicitados deben ser mayores a 0\")\n",
    "        \n",
    "    def registrar_herramienta (self, nueva_herramienta):\n",
    "        if nueva_herramienta.title() not in self.herramientas:\n",
    "            self.herramientas.append(nueva_herramienta.title())\n",
    "            return (f\"La nueva herramienta {nueva_herramienta.title()} se ha añadido correctamente. Tu lista de herramientas ahora es {self.herramientas}\")\n",
    "        else:\n",
    "            return(\"Esta herramienta ya esta en tu lista\")\n",
    "        \n",
    "   \n",
    "    def cambiar_posicion(self, nueva_posicion, nuevo_salario):\n",
    "        if nueva_posicion != self.posicion:\n",
    "            self.posicion = nueva_posicion\n",
    "            if nuevo_salario != self.salario:\n",
    "                self.salario = nuevo_salario\n",
    "                return(f\"{self.nombre} {self.apellidos} ahora es {nueva_posicion} y su salario es {nuevo_salario} euros\")\n",
    "            else:\n",
    "                return(f\"{nuevo_salario} es tu salario actual, introduce otra cantidad para poder modificarlo\")\n",
    "        else:\n",
    "            return(f\"{nueva_posicion} es tu puesto actual, introduce otra para poder modificarla\")\n",
    "\n",
    "    def tomar_vacaciones (self):\n",
    "                                   \n",
    "        while True:\n",
    "            try:\n",
    "                solicitud_dias = int(input(\"Introduzca los dias que quiere solicitar\"))\n",
    "                if solicitud_dias > 0:\n",
    "                    if solicitud_dias <= self.vacaciones_disponibles:\n",
    "                        self.vacaciones_disponibles -= solicitud_dias\n",
    "                        return (f\"Has consumido {solicitud_dias} dias de vaciones, te quedan {self.vacaciones_disponibles} dias\")\n",
    "                    else: \n",
    "                        return(f\"Error. Has solicitado {solicitud_dias} dias y solo te quedan {self.vacaciones_disponibles} dias\")\n",
    "                else:\n",
    "                    print(\"El dato introducido no es valido, por favor introduzca un numero mayor que 0\")\n",
    "            except:\n",
    "                print(\"El dato introducido no es valido, por favor introduzca un numero mayor que 0\")\n",
    "    \n",
    "    def solicitar_aumento_salario (self):\n",
    "\n",
    "        while True:\n",
    "            try:\n",
    "                aumento = float(input(\"Introduzca el porcentaje de aumento de salario que desea\")) / 100\n",
    "                \n",
    "                if aumento > 0:\n",
    "                    self.salario += self.salario * aumento\n",
    "                    return (f\"Su salario ahora es {self.salario} euros\")\n",
    "                else:\n",
    "                    print(\"Error. Por favor introduzca el porcentaje de aumento que desea\")\n",
    "            except:\n",
    "                    print(\"Error. Por favor introduzca el porcentaje de aumento que desea\")\n",
    "\n",
    "    def realizar_evaluacion (self):\n",
    "        lista_desmpeño = [\"Excelente\", \"Bueno\", \"Regular\", \"Malo\"]\n",
    "\n",
    "        while True:\n",
    "                desempeño = input(\"Califique su desempeño. Introduzca uno de estas calificaciones: Excelente, Bueno, Regular o Malo\")\n",
    "                if desempeño in lista_desmpeño:\n",
    "                    return (f\"Su calificacion ha sido {desempeño}\")\n",
    "                else:\n",
    "                    print(\"Error. Por favor introduzca uno de estas calificaciones: Excelente, Bueno, Regular o Malo\")\n",
    "\n",
    "\n"
   ]
  },
  {
   "cell_type": "code",
   "execution_count": 9,
   "metadata": {},
   "outputs": [],
   "source": [
    "Empleado1 = Empleados(\"Saira\", \"Castellano Redondo\", 28, \"Data Analyst\", 2020, 10, [\"Excel\", \"WORD\", \"PYTHON\"], 25000)"
   ]
  },
  {
   "cell_type": "code",
   "execution_count": 51,
   "metadata": {},
   "outputs": [
    {
     "data": {
      "text/plain": [
       "'El empleado se llama Saira Castellano Redondo, su puesto en la empresa es Data Analyst, lleva desde 2020 en la empresa, y los dias de vacaciones que le quedan para 2024 son 10'"
      ]
     },
     "execution_count": 51,
     "metadata": {},
     "output_type": "execute_result"
    }
   ],
   "source": [
    "Empleado1.descripcion()"
   ]
  },
  {
   "cell_type": "code",
   "execution_count": 52,
   "metadata": {},
   "outputs": [
    {
     "name": "stdout",
     "output_type": "stream",
     "text": [
      "Estas usando excel, prueba otra herramienta\n",
      "Enhorabuena por usar Python\n"
     ]
    },
    {
     "data": {
      "text/plain": [
       "['Excel', 'WORD', 'PYTHON']"
      ]
     },
     "execution_count": 52,
     "metadata": {},
     "output_type": "execute_result"
    }
   ],
   "source": [
    "Empleado1.cambiando_posicion()"
   ]
  },
  {
   "cell_type": "code",
   "execution_count": 53,
   "metadata": {},
   "outputs": [
    {
     "data": {
      "text/plain": [
       "'La antiguedad de Saira Castellano Redondo es 3 años y 11 meses'"
      ]
     },
     "execution_count": 53,
     "metadata": {},
     "output_type": "execute_result"
    }
   ],
   "source": [
    "Empleado1.calcular_antiguedad(3)"
   ]
  },
  {
   "cell_type": "code",
   "execution_count": 54,
   "metadata": {},
   "outputs": [
    {
     "data": {
      "text/plain": [
       "'Tu solicitud ha sido aceptada, te quedan 18 dias de vacaiones'"
      ]
     },
     "execution_count": 54,
     "metadata": {},
     "output_type": "execute_result"
    }
   ],
   "source": [
    "Empleado1.solicitar_aumento_vacaciones(8)"
   ]
  },
  {
   "cell_type": "code",
   "execution_count": 55,
   "metadata": {},
   "outputs": [
    {
     "data": {
      "text/plain": [
       "\"La nueva herramienta Jupyter Notebooks se ha añadido correctamente. Tu lista de herramientas ahora es ['Excel', 'WORD', 'PYTHON', 'Jupyter Notebooks']\""
      ]
     },
     "execution_count": 55,
     "metadata": {},
     "output_type": "execute_result"
    }
   ],
   "source": [
    "Empleado1.registrar_herramienta(\"jupyter notebooks\")"
   ]
  },
  {
   "cell_type": "code",
   "execution_count": 56,
   "metadata": {},
   "outputs": [
    {
     "data": {
      "text/plain": [
       "'Saira Castellano Redondo ahora es Analista de datos y su salario es 30000 euros'"
      ]
     },
     "execution_count": 56,
     "metadata": {},
     "output_type": "execute_result"
    }
   ],
   "source": [
    "Empleado1.cambiar_posicion(\"Analista de datos\", 30000)\n"
   ]
  },
  {
   "cell_type": "code",
   "execution_count": 15,
   "metadata": {},
   "outputs": [
    {
     "name": "stdout",
     "output_type": "stream",
     "text": [
      "El dato introducido no es valido, por favor introduzca un numero mayor que 0\n",
      "El dato introducido no es valido, por favor introduzca un numero mayor que 0\n"
     ]
    },
    {
     "data": {
      "text/plain": [
       "'Has consumido 9 dias de vaciones, te quedan 1 dias'"
      ]
     },
     "execution_count": 15,
     "metadata": {},
     "output_type": "execute_result"
    }
   ],
   "source": [
    "\n",
    "Empleado1.tomar_vacaciones()"
   ]
  },
  {
   "cell_type": "code",
   "execution_count": 4,
   "metadata": {},
   "outputs": [
    {
     "name": "stdout",
     "output_type": "stream",
     "text": [
      "Error. Por favor introduzca el porcentaje de aumento que desea\n",
      "Error. Por favor introduzca el porcentaje de aumento que desea\n",
      "Error. Por favor introduzca el porcentaje de aumento que desea\n"
     ]
    },
    {
     "data": {
      "text/plain": [
       "'Su salario ahora es 27500.0 euros'"
      ]
     },
     "execution_count": 4,
     "metadata": {},
     "output_type": "execute_result"
    }
   ],
   "source": [
    "Empleado1.solicitar_aumento_salario()"
   ]
  },
  {
   "cell_type": "code",
   "execution_count": 10,
   "metadata": {},
   "outputs": [
    {
     "name": "stdout",
     "output_type": "stream",
     "text": [
      "Error. Por favor introduzca uno de estas calificaciones: Excelente, Bueno, Regular o Malo\n"
     ]
    },
    {
     "data": {
      "text/plain": [
       "'Su calificacion ha sido Bueno'"
      ]
     },
     "execution_count": 10,
     "metadata": {},
     "output_type": "execute_result"
    }
   ],
   "source": [
    "Empleado1.realizar_evaluacion()"
   ]
  },
  {
   "cell_type": "markdown",
   "metadata": {},
   "source": [
    "Ejercicio 2:"
   ]
  },
  {
   "cell_type": "code",
   "execution_count": 32,
   "metadata": {},
   "outputs": [],
   "source": [
    "class Gerente(Empleados):\n",
    "        def __init__(self, nombre, apellidos, edad, posicion, anio, vacaciones, herramientas, salario, departamento, empleados_a_cargo): #los atributos que queremos en la clase hija, no hace \n",
    "                 #falta poner los atributos por defecto de la madre, los pilla aunque no los pongamos\n",
    "                super().__init__(nombre, apellidos, edad, posicion, anio, vacaciones, herramientas, salario) #los atributos de la clase hija que queremos que busque en la clase madre, \n",
    "                 #de esta forma no tenemos q añadir self.marca en la linea siguiente\n",
    "                \n",
    "                self.departamento = departamento\n",
    "                self.empleados_a_cargo = empleados_a_cargo\n",
    "        \n",
    "        def asignar_tareas (self, tarea, empleado):\n",
    "                return (f\"El gerente {self.nombre} {self.apellidos} ha asignado la tarea {tarea} al empleado {empleado}\")\n",
    "                        \n",
    "        def revisar_desempenio_empleado (self, empelado):\n",
    "                return(f\"El gerente {self.nombre} {self.apellidos} esta revisando el desempeño de {empelado}\")\n",
    "\n",
    "        def gestionar_empleados (self, accion, empleado):\n",
    "                if accion == \"contratar\":\n",
    "                        self.empleados_a_cargo.append(empleado)\n",
    "                        return(f\"El empelado {empleado} ha sido contratado por el gerente\")\n",
    "                elif accion == \"despedir\":\n",
    "                        if empleado in self.empleados_a_cargo:\n",
    "                                self.empleados_a_cargo.remove(empleado)\n",
    "                                return(f\"El empleado {empleado} ha sido despedido\")\n",
    "                        else:\n",
    "                                print(f\"El empleado {empleado} no esta a su cargo\")\n",
    "                else:\n",
    "                        print(\"Por favor indique contratar o despedir\")"
   ]
  },
  {
   "cell_type": "code",
   "execution_count": 33,
   "metadata": {},
   "outputs": [],
   "source": [
    "Gerente1 = Gerente(\"Adrian\", \"Mateo\", 29, \"Gerente\", 2019, 20, [\"Python\", \"Power BI\"], 50000, \"Data\", [\"Saira\", \"Juan\", \"Carlos\", \"Antonia\"])"
   ]
  },
  {
   "cell_type": "code",
   "execution_count": 30,
   "metadata": {},
   "outputs": [
    {
     "data": {
      "text/plain": [
       "'El gerente Adrian Mateo ha asignado la tarea Limpiar datos al empleado Maria'"
      ]
     },
     "execution_count": 30,
     "metadata": {},
     "output_type": "execute_result"
    }
   ],
   "source": [
    "Gerente1.asignar_tareas (\"Limpiar datos\", \"Maria\")"
   ]
  },
  {
   "cell_type": "code",
   "execution_count": 31,
   "metadata": {},
   "outputs": [
    {
     "data": {
      "text/plain": [
       "'El gerente Adrian Mateo esta revisando el desempeño de Saira'"
      ]
     },
     "execution_count": 31,
     "metadata": {},
     "output_type": "execute_result"
    }
   ],
   "source": [
    "Gerente1.revisar_desempenio_empleado(\"Saira\")"
   ]
  },
  {
   "cell_type": "code",
   "execution_count": 34,
   "metadata": {},
   "outputs": [
    {
     "data": {
      "text/plain": [
       "'El empelado Ana ha sido contratado por el gerente'"
      ]
     },
     "execution_count": 34,
     "metadata": {},
     "output_type": "execute_result"
    }
   ],
   "source": [
    "Gerente1.gestionar_empleados(\"contratar\", \"Ana\")"
   ]
  },
  {
   "cell_type": "code",
   "execution_count": 35,
   "metadata": {},
   "outputs": [
    {
     "data": {
      "text/plain": [
       "['Saira', 'Juan', 'Carlos', 'Antonia', 'Ana']"
      ]
     },
     "execution_count": 35,
     "metadata": {},
     "output_type": "execute_result"
    }
   ],
   "source": [
    "Gerente1.empleados_a_cargo"
   ]
  },
  {
   "cell_type": "code",
   "execution_count": 36,
   "metadata": {},
   "outputs": [
    {
     "data": {
      "text/plain": [
       "'El empleado Carlos ha sido despedido'"
      ]
     },
     "execution_count": 36,
     "metadata": {},
     "output_type": "execute_result"
    }
   ],
   "source": [
    "Gerente1.gestionar_empleados(\"despedir\", \"Carlos\")"
   ]
  },
  {
   "cell_type": "code",
   "execution_count": 37,
   "metadata": {},
   "outputs": [
    {
     "data": {
      "text/plain": [
       "['Saira', 'Juan', 'Antonia', 'Ana']"
      ]
     },
     "execution_count": 37,
     "metadata": {},
     "output_type": "execute_result"
    }
   ],
   "source": [
    "Gerente1.empleados_a_cargo"
   ]
  }
 ],
 "metadata": {
  "kernelspec": {
   "display_name": "base",
   "language": "python",
   "name": "python3"
  },
  "language_info": {
   "codemirror_mode": {
    "name": "ipython",
    "version": 3
   },
   "file_extension": ".py",
   "mimetype": "text/x-python",
   "name": "python",
   "nbconvert_exporter": "python",
   "pygments_lexer": "ipython3",
   "version": "3.9.7"
  }
 },
 "nbformat": 4,
 "nbformat_minor": 2
}
