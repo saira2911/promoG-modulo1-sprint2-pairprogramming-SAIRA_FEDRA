{
 "cells": [
  {
   "cell_type": "markdown",
   "metadata": {},
   "source": [
    "1. Validar un número de teléfono.\n",
    "- Descripción: Verificar si una cadena representa un número de teléfono válido en el formato (XXX) XXX-XXXX.\n"
   ]
  },
  {
   "cell_type": "code",
   "execution_count": null,
   "metadata": {},
   "outputs": [],
   "source": [
    "telefonos = [\"(123) 456-7890\", \"178 1890-733\", \"(555) 238-1987\", \"(123) 4560-7890\", \"(ABC) 098-1111\"]"
   ]
  },
  {
   "cell_type": "markdown",
   "metadata": {},
   "source": [
    "2. Buscar todas las direcciones de correo electrónico en un texto.\n",
    "- Descripción: Encontrar todas las direcciones de correo electrónico presentes en una cadena de texto."
   ]
  },
  {
   "cell_type": "code",
   "execution_count": null,
   "metadata": {},
   "outputs": [],
   "source": [
    "texto = \"Mi correo es user@example.com. Contacta conmigo en john.doe@email.com\""
   ]
  },
  {
   "cell_type": "markdown",
   "metadata": {},
   "source": [
    "3. Validar un código postal.\n",
    "- Descripción: Verificar si una cadena representa un código postal válido de 5 dígitos."
   ]
  },
  {
   "cell_type": "code",
   "execution_count": null,
   "metadata": {},
   "outputs": [],
   "source": [
    "codigos_postales = [\"12345\", \"190037\", \"78409\", \"986449\", \"19305\"]"
   ]
  },
  {
   "cell_type": "markdown",
   "metadata": {},
   "source": [
    "4. Encontrar todas las palabras que comienzan con una vocal en un texto.\n",
    "- Descripción: Encontrar todas las palabras en un texto que comienzan con una vocal (a, e, i, o, u)."
   ]
  },
  {
   "cell_type": "code",
   "execution_count": null,
   "metadata": {},
   "outputs": [],
   "source": [
    "texto = \"El perro está ladrando. Ana tiene una manzana. La casa es grande.\""
   ]
  },
  {
   "cell_type": "markdown",
   "metadata": {},
   "source": [
    "5. Extraer todos los hashtags de un texto.\n",
    "- Descripción: Extraer todos los hashtags (#) presentes en una cadena de texto."
   ]
  },
  {
   "cell_type": "code",
   "execution_count": null,
   "metadata": {},
   "outputs": [],
   "source": [
    "texto = \"Me encanta el #deporte. #FelizViernes a todos. Estoy en la conferencia #Tech2022.\""
   ]
  },
  {
   "cell_type": "markdown",
   "metadata": {},
   "source": [
    "6. Buscar todos los números decimales en una cadena de texto.\n",
    "- Descripción: Encontrar todos los números decimales presentes en una cadena de texto."
   ]
  },
  {
   "cell_type": "code",
   "execution_count": null,
   "metadata": {},
   "outputs": [],
   "source": [
    "texto = \"El precio es $19.99. La temperatura es 25.5°C. El índice de inflación es del 2.5%.\"     "
   ]
  },
  {
   "cell_type": "markdown",
   "metadata": {},
   "source": [
    "7. Validar un nombre de usuario.\n",
    "- Descripción: Verificar si una cadena representa un nombre de usuario válido, que contiene solo letras minúsculas, números y guiones bajos (_)."
   ]
  },
  {
   "cell_type": "code",
   "execution_count": null,
   "metadata": {},
   "outputs": [],
   "source": [
    "lista_usuarios = [\"juan_doe123\", \"lola_12\", \"Aurora_23\", \"12marta_lopez\"]"
   ]
  },
  {
   "cell_type": "markdown",
   "metadata": {},
   "source": [
    "8. Encontrar todas las fechas en formato \"dd/mm/aaaa\" en un texto.\n",
    "- Descripción: Encontrar todas las fechas válidas en formato \"dd/mm/aaaa\" presentes en una cadena de texto."
   ]
  },
  {
   "cell_type": "code",
   "execution_count": null,
   "metadata": {},
   "outputs": [],
   "source": [
    "texto = \"La fecha límite es el 31/12/2022. Hoy es 01/01/2023. Cumpleaños: 15/05/1990.\""
   ]
  },
  {
   "cell_type": "markdown",
   "metadata": {},
   "source": [
    "9. Remover caracteres especiales.\n",
    "- Descripción: Dada una cadena de texto, remover cualquier carácter especial, como signos de puntuación y símbolos."
   ]
  },
  {
   "cell_type": "code",
   "execution_count": null,
   "metadata": {},
   "outputs": [],
   "source": [
    "texto = '¡Hola, cómo estás? ¿Todo bien?'"
   ]
  },
  {
   "cell_type": "markdown",
   "metadata": {},
   "source": [
    "BONUS: Enmascarar información personal.\n",
    "- Descripción: Dada una cadena de texto que contiene información personal, como nombres y direcciones, enmascarar esta información reemplazándola con asteriscos (*)."
   ]
  },
  {
   "cell_type": "code",
   "execution_count": null,
   "metadata": {},
   "outputs": [],
   "source": [
    "texto = 'El nombre del cliente es John Doe y su dirección es 123 Main Street.'"
   ]
  }
 ],
 "metadata": {
  "kernelspec": {
   "display_name": "base",
   "language": "python",
   "name": "python3"
  },
  "language_info": {
   "name": "python",
   "version": "3.9.7"
  }
 },
 "nbformat": 4,
 "nbformat_minor": 2
}
